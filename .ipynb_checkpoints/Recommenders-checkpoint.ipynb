{
 "cells": [
  {
   "cell_type": "markdown",
   "metadata": {},
   "source": [
    "Nice to haves:\n",
    "- Deepdive into the factors each model focused on for predictions\n",
    "- Investigation of how strong the presence of each group was for each algorithm \n",
    "- Evaluate precision and recall for each model\n",
    "- Create a function that can take a song id, print the song id and print the 4 most similar songs with metrics "
   ]
  },
  {
   "cell_type": "markdown",
   "metadata": {},
   "source": [
    "# Recommenders"
   ]
  },
  {
   "cell_type": "markdown",
   "metadata": {},
   "source": [
    "Here, I'll be comparing some machine learning for recommender models: SVD++ ('implicit' Single Value Decomposition) , Non-Negative Matrix Factorization, Slope 1, Co Clustering and KNN with Z-score normalisation. \n",
    "\n",
    "After we see thier initial scores, we'll try and make them as good as they can get and compare the results and accuracy.\n",
    "\n",
    "Finally we'll get some actual recommendations and see what we think of them."
   ]
  },
  {
   "cell_type": "markdown",
   "metadata": {},
   "source": [
    "## Imports"
   ]
  },
  {
   "cell_type": "code",
   "execution_count": 1,
   "metadata": {},
   "outputs": [
    {
     "name": "stdout",
     "output_type": "stream",
     "text": [
      "Wall time: 1.96 s\n"
     ]
    }
   ],
   "source": [
    "%%time\n",
    "\n",
    "# General imports\n",
    "\n",
    "import pandas as pd\n",
    "import numpy as np\n",
    "import random\n",
    "\n",
    "import matplotlib.pyplot as plt\n",
    "from collections import defaultdict\n",
    "\n",
    "%matplotlib inline"
   ]
  },
  {
   "cell_type": "code",
   "execution_count": 2,
   "metadata": {},
   "outputs": [],
   "source": [
    "# Surpise imports\n",
    "\n",
    "from surprise import Dataset\n",
    "from surprise import Reader\n",
    "\n",
    "from surprise.model_selection import train_test_split, cross_validate, GridSearchCV, RandomizedSearchCV\n",
    "from surprise import SVDpp, NMF, SlopeOne, CoClustering, KNNWithZScore\n",
    "\n",
    "from surprise import accuracy"
   ]
  },
  {
   "cell_type": "markdown",
   "metadata": {},
   "source": [
    "## Constants"
   ]
  },
  {
   "cell_type": "code",
   "execution_count": 3,
   "metadata": {},
   "outputs": [],
   "source": [
    "FILENAME = r\"C:\\Users\\bless\\OneDrive\\Documents\\Python Scripts\\Beginner models\\MusicRecommender\\user_song_data.csv\"\n",
    "\n",
    "USED_ROWS = 200000\n",
    "VALIDATION_SIZE = 500000\n",
    "SUBSET_SIZE = 20000\n",
    "\n",
    "CUSTOM_COLOURS = ['#ff7675', '#74b9ff', '#BFA588',\n",
    "                  '#4B3A51', '#ea8685', '#E7CA6B',\n",
    "                 '#C2AF46', '#ff4757', '#00d8d6']"
   ]
  },
  {
   "cell_type": "markdown",
   "metadata": {},
   "source": [
    "# Data Setup"
   ]
  },
  {
   "cell_type": "code",
   "execution_count": 4,
   "metadata": {},
   "outputs": [
    {
     "name": "stderr",
     "output_type": "stream",
     "text": [
      "C:\\Users\\bless\\Anaconda3\\envs\\MLEnv\\lib\\site-packages\\numpy\\lib\\arraysetops.py:569: FutureWarning: elementwise comparison failed; returning scalar instead, but in the future will perform elementwise comparison\n",
      "  mask |= (ar1 == a)\n"
     ]
    },
    {
     "name": "stdout",
     "output_type": "stream",
     "text": [
      "Shape of the entire table \t| (2000000, 6)\n",
      "Shape of used data        \t| (200000, 6)\n",
      "\n",
      "\n",
      "Shape of small train data \t| (20000, 6)\n",
      "Shape of train data       \t| (0, 6)\n",
      "Shape of validation data \t| (200000, 6)\n",
      "Wall time: 7.81 s\n"
     ]
    }
   ],
   "source": [
    "%%time\n",
    "\n",
    "# make experiment repeatable by setting random seed\n",
    "\n",
    "my_seed = 0\n",
    "random.seed(my_seed)\n",
    "np.random.seed(my_seed)\n",
    "\n",
    "# Creation of the dataframe, subsetting, small training, large training and validation data\n",
    "\n",
    "data = pd.read_csv(FILENAME, index_col = 0).sample(frac=1)\n",
    "data_used  = data[:USED_ROWS]\n",
    "small_train_df = data_used[:SUBSET_SIZE]\n",
    "train_df = data_used[SUBSET_SIZE:-1*(VALIDATION_SIZE)]\n",
    "validation_df = data_used[-1*(VALIDATION_SIZE):]\n",
    "\n",
    "\n",
    "\n",
    "print('Shape of the entire table \\t|', data.shape)\n",
    "print('Shape of used data        \\t|', data_used.shape)\n",
    "print('\\n')\n",
    "print('Shape of small train data \\t|', small_train_df.shape)\n",
    "print('Shape of train data       \\t|', train_df.shape)\n",
    "print('Shape of validation data \\t|', validation_df.shape)\n",
    "\n"
   ]
  },
  {
   "cell_type": "markdown",
   "metadata": {},
   "source": [
    "Here the $2,000,000$ instances in our table have been split up into smaller subsets, used to test models for speed, a training set, to actually train out model, and a validation set, which we will use to validate our trained models."
   ]
  },
  {
   "cell_type": "markdown",
   "metadata": {},
   "source": [
    "### Data exploration\n",
    "\n",
    "We won't spend much time on this because the data isn't really the focus here (and it might not help my agenda)"
   ]
  },
  {
   "cell_type": "code",
   "execution_count": 5,
   "metadata": {},
   "outputs": [
    {
     "data": {
      "text/html": [
       "<div>\n",
       "<style scoped>\n",
       "    .dataframe tbody tr th:only-of-type {\n",
       "        vertical-align: middle;\n",
       "    }\n",
       "\n",
       "    .dataframe tbody tr th {\n",
       "        vertical-align: top;\n",
       "    }\n",
       "\n",
       "    .dataframe thead th {\n",
       "        text-align: right;\n",
       "    }\n",
       "</style>\n",
       "<table border=\"1\" class=\"dataframe\">\n",
       "  <thead>\n",
       "    <tr style=\"text-align: right;\">\n",
       "      <th></th>\n",
       "      <th>user_id</th>\n",
       "      <th>song_id</th>\n",
       "      <th>listen_count</th>\n",
       "      <th>release</th>\n",
       "      <th>year</th>\n",
       "      <th>song</th>\n",
       "    </tr>\n",
       "  </thead>\n",
       "  <tbody>\n",
       "    <tr>\n",
       "      <th>1319600</th>\n",
       "      <td>bba304c2ed4ef5ae8f15fd4fca4a694cf6c0e8a0</td>\n",
       "      <td>SORVKCB12AB0188D90</td>\n",
       "      <td>2</td>\n",
       "      <td>Big Calm</td>\n",
       "      <td>1998</td>\n",
       "      <td>Big Calm - Morcheeba</td>\n",
       "    </tr>\n",
       "    <tr>\n",
       "      <th>1697773</th>\n",
       "      <td>da5d0afc724e7d63b9e90552a4d148fcce94e97e</td>\n",
       "      <td>SOGJMJH12A6702154D</td>\n",
       "      <td>1</td>\n",
       "      <td>The Downward Spiral</td>\n",
       "      <td>1994</td>\n",
       "      <td>Closer - Nine Inch Nails</td>\n",
       "    </tr>\n",
       "    <tr>\n",
       "      <th>742836</th>\n",
       "      <td>4e23d4c1111c206e2dc0984c9d1b2e3bff510482</td>\n",
       "      <td>SOAXGDH12A8C13F8A1</td>\n",
       "      <td>1</td>\n",
       "      <td>Now That's What I Call Music! 75</td>\n",
       "      <td>0</td>\n",
       "      <td>Dog Days Are Over (Radio Edit) - Florence + Th...</td>\n",
       "    </tr>\n",
       "    <tr>\n",
       "      <th>114563</th>\n",
       "      <td>2109f4ce04660f2d92d7bc36b0c221d171172d6b</td>\n",
       "      <td>SOMWASN12A6D4F72B3</td>\n",
       "      <td>3</td>\n",
       "      <td>The Sufferer &amp; The Witness</td>\n",
       "      <td>2006</td>\n",
       "      <td>Bricks - Rise Against</td>\n",
       "    </tr>\n",
       "    <tr>\n",
       "      <th>236686</th>\n",
       "      <td>74e3254cb58a35de657126e9e2f61b474857ff0f</td>\n",
       "      <td>SOYGHUM12AB018139C</td>\n",
       "      <td>4</td>\n",
       "      <td>War Is The Answer</td>\n",
       "      <td>2009</td>\n",
       "      <td>Bad Company - Five Finger Death Punch</td>\n",
       "    </tr>\n",
       "  </tbody>\n",
       "</table>\n",
       "</div>"
      ],
      "text/plain": [
       "                                          user_id             song_id  \\\n",
       "1319600  bba304c2ed4ef5ae8f15fd4fca4a694cf6c0e8a0  SORVKCB12AB0188D90   \n",
       "1697773  da5d0afc724e7d63b9e90552a4d148fcce94e97e  SOGJMJH12A6702154D   \n",
       "742836   4e23d4c1111c206e2dc0984c9d1b2e3bff510482  SOAXGDH12A8C13F8A1   \n",
       "114563   2109f4ce04660f2d92d7bc36b0c221d171172d6b  SOMWASN12A6D4F72B3   \n",
       "236686   74e3254cb58a35de657126e9e2f61b474857ff0f  SOYGHUM12AB018139C   \n",
       "\n",
       "         listen_count                           release  year  \\\n",
       "1319600             2                          Big Calm  1998   \n",
       "1697773             1               The Downward Spiral  1994   \n",
       "742836              1  Now That's What I Call Music! 75     0   \n",
       "114563              3        The Sufferer & The Witness  2006   \n",
       "236686              4                 War Is The Answer  2009   \n",
       "\n",
       "                                                      song  \n",
       "1319600                               Big Calm - Morcheeba  \n",
       "1697773                           Closer - Nine Inch Nails  \n",
       "742836   Dog Days Are Over (Radio Edit) - Florence + Th...  \n",
       "114563                               Bricks - Rise Against  \n",
       "236686               Bad Company - Five Finger Death Punch  "
      ]
     },
     "execution_count": 5,
     "metadata": {},
     "output_type": "execute_result"
    }
   ],
   "source": [
    "data.head()"
   ]
  },
  {
   "cell_type": "code",
   "execution_count": 6,
   "metadata": {},
   "outputs": [
    {
     "data": {
      "text/html": [
       "<div>\n",
       "<style scoped>\n",
       "    .dataframe tbody tr th:only-of-type {\n",
       "        vertical-align: middle;\n",
       "    }\n",
       "\n",
       "    .dataframe tbody tr th {\n",
       "        vertical-align: top;\n",
       "    }\n",
       "\n",
       "    .dataframe thead th {\n",
       "        text-align: right;\n",
       "    }\n",
       "</style>\n",
       "<table border=\"1\" class=\"dataframe\">\n",
       "  <thead>\n",
       "    <tr style=\"text-align: right;\">\n",
       "      <th></th>\n",
       "      <th>user_id</th>\n",
       "      <th>song_id</th>\n",
       "      <th>listen_count</th>\n",
       "      <th>release</th>\n",
       "      <th>year</th>\n",
       "      <th>song</th>\n",
       "    </tr>\n",
       "  </thead>\n",
       "  <tbody>\n",
       "    <tr>\n",
       "      <th>1933686</th>\n",
       "      <td>01a1f7e92dae95a84f2170fe20e9da77c5f3e1c2</td>\n",
       "      <td>SOADJQJ12A8C141D38</td>\n",
       "      <td>2</td>\n",
       "      <td>Halo</td>\n",
       "      <td>2008</td>\n",
       "      <td>Halo - Beyoncé</td>\n",
       "    </tr>\n",
       "    <tr>\n",
       "      <th>755225</th>\n",
       "      <td>4b448a9e818af0e7faca4921efe8a998806ac6d9</td>\n",
       "      <td>SOBJBEU12AF729D526</td>\n",
       "      <td>1</td>\n",
       "      <td>Rubber Factory</td>\n",
       "      <td>2004</td>\n",
       "      <td>When The Lights Go Out - The Black Keys</td>\n",
       "    </tr>\n",
       "    <tr>\n",
       "      <th>859942</th>\n",
       "      <td>83c716d90d6adf6f2a1e8d29b79e02d576e10342</td>\n",
       "      <td>SOWEHOM12A6BD4E09E</td>\n",
       "      <td>1</td>\n",
       "      <td>16 Candles</td>\n",
       "      <td>1988</td>\n",
       "      <td>16 Candles - The Crests</td>\n",
       "    </tr>\n",
       "    <tr>\n",
       "      <th>346937</th>\n",
       "      <td>a7f34622909e7796f8da82e64d6ad410bf6d696e</td>\n",
       "      <td>SOHXQWR12AF72AB9CD</td>\n",
       "      <td>1</td>\n",
       "      <td>One Life Stand</td>\n",
       "      <td>2010</td>\n",
       "      <td>Slush - Hot Chip</td>\n",
       "    </tr>\n",
       "    <tr>\n",
       "      <th>1917765</th>\n",
       "      <td>09926955ec17f6873c7dfc47bb660e273e74b396</td>\n",
       "      <td>SOFERPM12A6D4FAC44</td>\n",
       "      <td>11</td>\n",
       "      <td>We Broke The Rules</td>\n",
       "      <td>2003</td>\n",
       "      <td>Obsesion - Aventura</td>\n",
       "    </tr>\n",
       "  </tbody>\n",
       "</table>\n",
       "</div>"
      ],
      "text/plain": [
       "                                          user_id             song_id  \\\n",
       "1933686  01a1f7e92dae95a84f2170fe20e9da77c5f3e1c2  SOADJQJ12A8C141D38   \n",
       "755225   4b448a9e818af0e7faca4921efe8a998806ac6d9  SOBJBEU12AF729D526   \n",
       "859942   83c716d90d6adf6f2a1e8d29b79e02d576e10342  SOWEHOM12A6BD4E09E   \n",
       "346937   a7f34622909e7796f8da82e64d6ad410bf6d696e  SOHXQWR12AF72AB9CD   \n",
       "1917765  09926955ec17f6873c7dfc47bb660e273e74b396  SOFERPM12A6D4FAC44   \n",
       "\n",
       "         listen_count             release  year  \\\n",
       "1933686             2                Halo  2008   \n",
       "755225              1      Rubber Factory  2004   \n",
       "859942              1          16 Candles  1988   \n",
       "346937              1      One Life Stand  2010   \n",
       "1917765            11  We Broke The Rules  2003   \n",
       "\n",
       "                                            song  \n",
       "1933686                           Halo - Beyoncé  \n",
       "755225   When The Lights Go Out - The Black Keys  \n",
       "859942                   16 Candles - The Crests  \n",
       "346937                          Slush - Hot Chip  \n",
       "1917765                      Obsesion - Aventura  "
      ]
     },
     "execution_count": 6,
     "metadata": {},
     "output_type": "execute_result"
    }
   ],
   "source": [
    "small_train_df.tail()"
   ]
  },
  {
   "cell_type": "code",
   "execution_count": 7,
   "metadata": {},
   "outputs": [
    {
     "data": {
      "text/plain": [
       "Index(['user_id', 'song_id', 'listen_count', 'release', 'year', 'song'], dtype='object')"
      ]
     },
     "execution_count": 7,
     "metadata": {},
     "output_type": "execute_result"
    }
   ],
   "source": [
    "data.columns"
   ]
  },
  {
   "cell_type": "markdown",
   "metadata": {},
   "source": [
    "'Listen count' is the proxy for a users preference here; the higher it is, the better we assume the user rates the song. It'll form the basis of the analysis."
   ]
  },
  {
   "cell_type": "code",
   "execution_count": 8,
   "metadata": {},
   "outputs": [
    {
     "data": {
      "text/plain": [
       "count    2000000.0\n",
       "mean           3.0\n",
       "std            7.0\n",
       "min            1.0\n",
       "25%            1.0\n",
       "50%            1.0\n",
       "75%            3.0\n",
       "max         2213.0\n",
       "Name: listen_count, dtype: float64"
      ]
     },
     "execution_count": 8,
     "metadata": {},
     "output_type": "execute_result"
    }
   ],
   "source": [
    "round(data.listen_count.describe())"
   ]
  },
  {
   "cell_type": "code",
   "execution_count": 9,
   "metadata": {},
   "outputs": [
    {
     "data": {
      "image/png": "[encoded data removed]",
      "text/plain": [
       "<Figure size 720x720 with 1 Axes>"
      ]
     },
     "metadata": {
      "needs_background": "light"
     },
     "output_type": "display_data"
    },
    {
     "name": "stdout",
     "output_type": "stream",
     "text": [
      "Wall time: 1.96 s\n"
     ]
    }
   ],
   "source": [
    "%%time\n",
    "\n",
    "fig = plt.figure(figsize=(10,10))\n",
    "plt.hist(data.listen_count.astype(int), bins = 500,\n",
    "         color=CUSTOM_COLOURS[0])\n",
    "plt.title('Listen counts vs frequency', fontsize=18)\n",
    "plt.ylabel('frequency', fontsize = 15)\n",
    "plt.xlabel('Amount of listens', fontsize=15)\n",
    "plt.show()"
   ]
  },
  {
   "cell_type": "markdown",
   "metadata": {},
   "source": [
    "This distribution is very heavily weighted toward the low end; 75% of our 2 million users have listened to a song 3 times or less, with the largest amount of listens being 2213. Lets look at the low and high ends sperately."
   ]
  },
  {
   "cell_type": "markdown",
   "metadata": {},
   "source": [
    "#### Looking at the listen counts"
   ]
  },
  {
   "cell_type": "code",
   "execution_count": 10,
   "metadata": {},
   "outputs": [
    {
     "data": {
      "image/png": "[encoded data removed]",
      "text/plain": [
       "<Figure size 720x720 with 2 Axes>"
      ]
     },
     "metadata": {
      "needs_background": "light"
     },
     "output_type": "display_data"
    },
    {
     "name": "stdout",
     "output_type": "stream",
     "text": [
      "Wall time: 657 ms\n"
     ]
    }
   ],
   "source": [
    "%%time\n",
    "\n",
    "fig = plt.figure(figsize=(10,10))\n",
    "plt.rc('xtick',labelsize=10)\n",
    "plt.rc('ytick',labelsize=10)\n",
    "plt.tight_layout(pad = 8)\n",
    "\n",
    "# Listen counts below 200\n",
    "plt.subplot(1,2,1)\n",
    "plt.hist(data.listen_count[data.listen_count <= 100], bins = None,\n",
    "         color = CUSTOM_COLOURS[1])\n",
    "plt.xlim(0)\n",
    "plt.title('Listen counts under 100', fontsize=18)\n",
    "plt.xlabel('listen counts', fontsize=15)\n",
    "plt.ylabel('frequency', fontsize=15)\n",
    "\n",
    "\n",
    "# Listen counts above 200\n",
    "plt.subplot(1,2,2)\n",
    "plt.hist(data.listen_count[data.listen_count > 200], bins = None,\n",
    "        color=CUSTOM_COLOURS[8])\n",
    "plt.xlim(200)\n",
    "plt.title('Listen counts over 200', fontsize=18)\n",
    "plt.xlabel('listen counts', fontsize=15)\n",
    "plt.ylabel('frequency', fontsize=15)\n",
    "\n",
    "\n",
    "plt.show()"
   ]
  },
  {
   "cell_type": "markdown",
   "metadata": {},
   "source": [
    "The difference in scale tells us all we need to know. Lets find a few other intersting metrics, like the 10 most popular songs, years, and album releases."
   ]
  },
  {
   "cell_type": "markdown",
   "metadata": {},
   "source": [
    "### Investigating popularity"
   ]
  },
  {
   "cell_type": "code",
   "execution_count": 11,
   "metadata": {},
   "outputs": [],
   "source": [
    "# Gets the top 10 most popular of a specified attribute by listen count\n",
    "\n",
    "def get_top_10(df, metric):\n",
    "    \n",
    "    \"\"\"\n",
    "    Gets the highest 10 rated items of a given metric\n",
    "    \n",
    "    Args:\n",
    "        df: Dataframe to be evalauted\n",
    "        metric: Ihe metric for dataframe to be evaluated over\n",
    "        \n",
    "    Returns:\n",
    "        A dataframe of 10 records consisting of the top 10 attributes by listen count\n",
    "    \"\"\"\n",
    "    frame = df.groupby(metric)\n",
    "    frame = frame.sum()\n",
    "    if metric != 'year':\n",
    "        frame.drop('year', axis = 1, inplace=True)\n",
    "        \n",
    "    frame = frame.sort_values(by=['listen_count'],ascending=False)\n",
    "\n",
    "        \n",
    "    return frame[:10]"
   ]
  },
  {
   "cell_type": "code",
   "execution_count": 12,
   "metadata": {},
   "outputs": [
    {
     "ename": "KeyboardInterrupt",
     "evalue": "",
     "output_type": "error",
     "traceback": [
      "\u001b[1;31m---------------------------------------------------------------------------\u001b[0m",
      "\u001b[1;31mKeyboardInterrupt\u001b[0m                         Traceback (most recent call last)",
      "\u001b[1;32m<ipython-input-12-31dff83c5087>\u001b[0m in \u001b[0;36m<module>\u001b[1;34m\u001b[0m\n\u001b[0;32m      1\u001b[0m \u001b[0msong_df\u001b[0m \u001b[1;33m=\u001b[0m \u001b[0mget_top_10\u001b[0m\u001b[1;33m(\u001b[0m\u001b[0mdata\u001b[0m\u001b[1;33m,\u001b[0m\u001b[1;34m'song'\u001b[0m\u001b[1;33m)\u001b[0m\u001b[1;33m\u001b[0m\u001b[1;33m\u001b[0m\u001b[0m\n\u001b[0;32m      2\u001b[0m \u001b[0mera_df\u001b[0m \u001b[1;33m=\u001b[0m \u001b[0mget_top_10\u001b[0m\u001b[1;33m(\u001b[0m\u001b[0mdata\u001b[0m\u001b[1;33m,\u001b[0m \u001b[1;34m'year'\u001b[0m\u001b[1;33m)\u001b[0m\u001b[1;33m.\u001b[0m\u001b[0mdrop\u001b[0m\u001b[1;33m(\u001b[0m\u001b[1;36m0\u001b[0m\u001b[1;33m,\u001b[0m \u001b[0maxis\u001b[0m \u001b[1;33m=\u001b[0m \u001b[1;36m0\u001b[0m\u001b[1;33m)\u001b[0m\u001b[1;33m\u001b[0m\u001b[1;33m\u001b[0m\u001b[0m\n\u001b[1;32m----> 3\u001b[1;33m \u001b[0mrelease_df\u001b[0m \u001b[1;33m=\u001b[0m \u001b[0mget_top_10\u001b[0m\u001b[1;33m(\u001b[0m\u001b[0mdata\u001b[0m\u001b[1;33m,\u001b[0m \u001b[1;34m'release'\u001b[0m\u001b[1;33m)\u001b[0m\u001b[1;33m\u001b[0m\u001b[1;33m\u001b[0m\u001b[0m\n\u001b[0m",
      "\u001b[1;32m<ipython-input-11-de1c02f20a76>\u001b[0m in \u001b[0;36mget_top_10\u001b[1;34m(df, metric)\u001b[0m\n\u001b[0;32m     14\u001b[0m     \"\"\"\n\u001b[0;32m     15\u001b[0m     \u001b[0mframe\u001b[0m \u001b[1;33m=\u001b[0m \u001b[0mdf\u001b[0m\u001b[1;33m.\u001b[0m\u001b[0mgroupby\u001b[0m\u001b[1;33m(\u001b[0m\u001b[0mmetric\u001b[0m\u001b[1;33m)\u001b[0m\u001b[1;33m\u001b[0m\u001b[1;33m\u001b[0m\u001b[0m\n\u001b[1;32m---> 16\u001b[1;33m     \u001b[0mframe\u001b[0m \u001b[1;33m=\u001b[0m \u001b[0mframe\u001b[0m\u001b[1;33m.\u001b[0m\u001b[0msum\u001b[0m\u001b[1;33m(\u001b[0m\u001b[1;33m)\u001b[0m\u001b[1;33m\u001b[0m\u001b[1;33m\u001b[0m\u001b[0m\n\u001b[0m\u001b[0;32m     17\u001b[0m     \u001b[1;32mif\u001b[0m \u001b[0mmetric\u001b[0m \u001b[1;33m!=\u001b[0m \u001b[1;34m'year'\u001b[0m\u001b[1;33m:\u001b[0m\u001b[1;33m\u001b[0m\u001b[1;33m\u001b[0m\u001b[0m\n\u001b[0;32m     18\u001b[0m         \u001b[0mframe\u001b[0m\u001b[1;33m.\u001b[0m\u001b[0mdrop\u001b[0m\u001b[1;33m(\u001b[0m\u001b[1;34m'year'\u001b[0m\u001b[1;33m,\u001b[0m \u001b[0maxis\u001b[0m \u001b[1;33m=\u001b[0m \u001b[1;36m1\u001b[0m\u001b[1;33m,\u001b[0m \u001b[0minplace\u001b[0m\u001b[1;33m=\u001b[0m\u001b[1;32mTrue\u001b[0m\u001b[1;33m)\u001b[0m\u001b[1;33m\u001b[0m\u001b[1;33m\u001b[0m\u001b[0m\n",
      "\u001b[1;32m~\\Anaconda3\\envs\\MLEnv\\lib\\site-packages\\pandas\\core\\groupby\\groupby.py\u001b[0m in \u001b[0;36mf\u001b[1;34m(self, **kwargs)\u001b[0m\n\u001b[0;32m   1376\u001b[0m                 \u001b[1;31m# try a cython aggregation if we can\u001b[0m\u001b[1;33m\u001b[0m\u001b[1;33m\u001b[0m\u001b[1;33m\u001b[0m\u001b[0m\n\u001b[0;32m   1377\u001b[0m                 \u001b[1;32mtry\u001b[0m\u001b[1;33m:\u001b[0m\u001b[1;33m\u001b[0m\u001b[1;33m\u001b[0m\u001b[0m\n\u001b[1;32m-> 1378\u001b[1;33m                     \u001b[1;32mreturn\u001b[0m \u001b[0mself\u001b[0m\u001b[1;33m.\u001b[0m\u001b[0m_cython_agg_general\u001b[0m\u001b[1;33m(\u001b[0m\u001b[0malias\u001b[0m\u001b[1;33m,\u001b[0m \u001b[0malt\u001b[0m\u001b[1;33m=\u001b[0m\u001b[0mnpfunc\u001b[0m\u001b[1;33m,\u001b[0m \u001b[1;33m**\u001b[0m\u001b[0mkwargs\u001b[0m\u001b[1;33m)\u001b[0m\u001b[1;33m\u001b[0m\u001b[1;33m\u001b[0m\u001b[0m\n\u001b[0m\u001b[0;32m   1379\u001b[0m                 \u001b[1;32mexcept\u001b[0m \u001b[0mDataError\u001b[0m\u001b[1;33m:\u001b[0m\u001b[1;33m\u001b[0m\u001b[1;33m\u001b[0m\u001b[0m\n\u001b[0;32m   1380\u001b[0m                     \u001b[1;32mpass\u001b[0m\u001b[1;33m\u001b[0m\u001b[1;33m\u001b[0m\u001b[0m\n",
      "\u001b[1;32m~\\Anaconda3\\envs\\MLEnv\\lib\\site-packages\\pandas\\core\\groupby\\generic.py\u001b[0m in \u001b[0;36m_cython_agg_general\u001b[1;34m(self, how, alt, numeric_only, min_count)\u001b[0m\n\u001b[0;32m   1002\u001b[0m     ) -> DataFrame:\n\u001b[0;32m   1003\u001b[0m         agg_blocks, agg_items = self._cython_agg_blocks(\n\u001b[1;32m-> 1004\u001b[1;33m             \u001b[0mhow\u001b[0m\u001b[1;33m,\u001b[0m \u001b[0malt\u001b[0m\u001b[1;33m=\u001b[0m\u001b[0malt\u001b[0m\u001b[1;33m,\u001b[0m \u001b[0mnumeric_only\u001b[0m\u001b[1;33m=\u001b[0m\u001b[0mnumeric_only\u001b[0m\u001b[1;33m,\u001b[0m \u001b[0mmin_count\u001b[0m\u001b[1;33m=\u001b[0m\u001b[0mmin_count\u001b[0m\u001b[1;33m\u001b[0m\u001b[1;33m\u001b[0m\u001b[0m\n\u001b[0m\u001b[0;32m   1005\u001b[0m         )\n\u001b[0;32m   1006\u001b[0m         \u001b[1;32mreturn\u001b[0m \u001b[0mself\u001b[0m\u001b[1;33m.\u001b[0m\u001b[0m_wrap_agged_blocks\u001b[0m\u001b[1;33m(\u001b[0m\u001b[0magg_blocks\u001b[0m\u001b[1;33m,\u001b[0m \u001b[0mitems\u001b[0m\u001b[1;33m=\u001b[0m\u001b[0magg_items\u001b[0m\u001b[1;33m)\u001b[0m\u001b[1;33m\u001b[0m\u001b[1;33m\u001b[0m\u001b[0m\n",
      "\u001b[1;32m~\\Anaconda3\\envs\\MLEnv\\lib\\site-packages\\pandas\\core\\groupby\\generic.py\u001b[0m in \u001b[0;36m_cython_agg_blocks\u001b[1;34m(self, how, alt, numeric_only, min_count)\u001b[0m\n\u001b[0;32m   1031\u001b[0m             \u001b[1;32mtry\u001b[0m\u001b[1;33m:\u001b[0m\u001b[1;33m\u001b[0m\u001b[1;33m\u001b[0m\u001b[0m\n\u001b[0;32m   1032\u001b[0m                 result, _ = self.grouper.aggregate(\n\u001b[1;32m-> 1033\u001b[1;33m                     \u001b[0mblock\u001b[0m\u001b[1;33m.\u001b[0m\u001b[0mvalues\u001b[0m\u001b[1;33m,\u001b[0m \u001b[0mhow\u001b[0m\u001b[1;33m,\u001b[0m \u001b[0maxis\u001b[0m\u001b[1;33m=\u001b[0m\u001b[1;36m1\u001b[0m\u001b[1;33m,\u001b[0m \u001b[0mmin_count\u001b[0m\u001b[1;33m=\u001b[0m\u001b[0mmin_count\u001b[0m\u001b[1;33m\u001b[0m\u001b[1;33m\u001b[0m\u001b[0m\n\u001b[0m\u001b[0;32m   1034\u001b[0m                 )\n\u001b[0;32m   1035\u001b[0m             \u001b[1;32mexcept\u001b[0m \u001b[0mNotImplementedError\u001b[0m\u001b[1;33m:\u001b[0m\u001b[1;33m\u001b[0m\u001b[1;33m\u001b[0m\u001b[0m\n",
      "\u001b[1;32m~\\Anaconda3\\envs\\MLEnv\\lib\\site-packages\\pandas\\core\\groupby\\ops.py\u001b[0m in \u001b[0;36maggregate\u001b[1;34m(self, values, how, axis, min_count)\u001b[0m\n\u001b[0;32m    585\u001b[0m     ) -> Tuple[np.ndarray, Optional[List[str]]]:\n\u001b[0;32m    586\u001b[0m         return self._cython_operation(\n\u001b[1;32m--> 587\u001b[1;33m             \u001b[1;34m\"aggregate\"\u001b[0m\u001b[1;33m,\u001b[0m \u001b[0mvalues\u001b[0m\u001b[1;33m,\u001b[0m \u001b[0mhow\u001b[0m\u001b[1;33m,\u001b[0m \u001b[0maxis\u001b[0m\u001b[1;33m,\u001b[0m \u001b[0mmin_count\u001b[0m\u001b[1;33m=\u001b[0m\u001b[0mmin_count\u001b[0m\u001b[1;33m\u001b[0m\u001b[1;33m\u001b[0m\u001b[0m\n\u001b[0m\u001b[0;32m    588\u001b[0m         )\n\u001b[0;32m    589\u001b[0m \u001b[1;33m\u001b[0m\u001b[0m\n",
      "\u001b[1;32m~\\Anaconda3\\envs\\MLEnv\\lib\\site-packages\\pandas\\core\\groupby\\ops.py\u001b[0m in \u001b[0;36m_cython_operation\u001b[1;34m(self, kind, values, how, axis, min_count, **kwargs)\u001b[0m\n\u001b[0;32m    508\u001b[0m                     \u001b[1;34m\"arity of more than 1 is not supported for the 'how' argument\"\u001b[0m\u001b[1;33m\u001b[0m\u001b[1;33m\u001b[0m\u001b[0m\n\u001b[0;32m    509\u001b[0m                 )\n\u001b[1;32m--> 510\u001b[1;33m             \u001b[0mout_shape\u001b[0m \u001b[1;33m=\u001b[0m \u001b[1;33m(\u001b[0m\u001b[0mself\u001b[0m\u001b[1;33m.\u001b[0m\u001b[0mngroups\u001b[0m\u001b[1;33m,\u001b[0m\u001b[1;33m)\u001b[0m \u001b[1;33m+\u001b[0m \u001b[0mvalues\u001b[0m\u001b[1;33m.\u001b[0m\u001b[0mshape\u001b[0m\u001b[1;33m[\u001b[0m\u001b[1;36m1\u001b[0m\u001b[1;33m:\u001b[0m\u001b[1;33m]\u001b[0m\u001b[1;33m\u001b[0m\u001b[1;33m\u001b[0m\u001b[0m\n\u001b[0m\u001b[0;32m    511\u001b[0m \u001b[1;33m\u001b[0m\u001b[0m\n\u001b[0;32m    512\u001b[0m         \u001b[0mfunc\u001b[0m\u001b[1;33m,\u001b[0m \u001b[0mvalues\u001b[0m \u001b[1;33m=\u001b[0m \u001b[0mself\u001b[0m\u001b[1;33m.\u001b[0m\u001b[0m_get_cython_func_and_vals\u001b[0m\u001b[1;33m(\u001b[0m\u001b[0mkind\u001b[0m\u001b[1;33m,\u001b[0m \u001b[0mhow\u001b[0m\u001b[1;33m,\u001b[0m \u001b[0mvalues\u001b[0m\u001b[1;33m,\u001b[0m \u001b[0mis_numeric\u001b[0m\u001b[1;33m)\u001b[0m\u001b[1;33m\u001b[0m\u001b[1;33m\u001b[0m\u001b[0m\n",
      "\u001b[1;32mpandas\\_libs\\properties.pyx\u001b[0m in \u001b[0;36mpandas._libs.properties.CachedProperty.__get__\u001b[1;34m()\u001b[0m\n",
      "\u001b[1;32m~\\Anaconda3\\envs\\MLEnv\\lib\\site-packages\\pandas\\core\\groupby\\ops.py\u001b[0m in \u001b[0;36mngroups\u001b[1;34m(self)\u001b[0m\n\u001b[0;32m    288\u001b[0m     \u001b[1;33m@\u001b[0m\u001b[0mcache_readonly\u001b[0m\u001b[1;33m\u001b[0m\u001b[1;33m\u001b[0m\u001b[0m\n\u001b[0;32m    289\u001b[0m     \u001b[1;32mdef\u001b[0m \u001b[0mngroups\u001b[0m\u001b[1;33m(\u001b[0m\u001b[0mself\u001b[0m\u001b[1;33m)\u001b[0m \u001b[1;33m->\u001b[0m \u001b[0mint\u001b[0m\u001b[1;33m:\u001b[0m\u001b[1;33m\u001b[0m\u001b[1;33m\u001b[0m\u001b[0m\n\u001b[1;32m--> 290\u001b[1;33m         \u001b[1;32mreturn\u001b[0m \u001b[0mlen\u001b[0m\u001b[1;33m(\u001b[0m\u001b[0mself\u001b[0m\u001b[1;33m.\u001b[0m\u001b[0mresult_index\u001b[0m\u001b[1;33m)\u001b[0m\u001b[1;33m\u001b[0m\u001b[1;33m\u001b[0m\u001b[0m\n\u001b[0m\u001b[0;32m    291\u001b[0m \u001b[1;33m\u001b[0m\u001b[0m\n\u001b[0;32m    292\u001b[0m     \u001b[1;33m@\u001b[0m\u001b[0mproperty\u001b[0m\u001b[1;33m\u001b[0m\u001b[1;33m\u001b[0m\u001b[0m\n",
      "\u001b[1;32mpandas\\_libs\\properties.pyx\u001b[0m in \u001b[0;36mpandas._libs.properties.CachedProperty.__get__\u001b[1;34m()\u001b[0m\n",
      "\u001b[1;32m~\\Anaconda3\\envs\\MLEnv\\lib\\site-packages\\pandas\\core\\groupby\\ops.py\u001b[0m in \u001b[0;36mresult_index\u001b[1;34m(self)\u001b[0m\n\u001b[0;32m    299\u001b[0m     \u001b[1;32mdef\u001b[0m \u001b[0mresult_index\u001b[0m\u001b[1;33m(\u001b[0m\u001b[0mself\u001b[0m\u001b[1;33m)\u001b[0m \u001b[1;33m->\u001b[0m \u001b[0mIndex\u001b[0m\u001b[1;33m:\u001b[0m\u001b[1;33m\u001b[0m\u001b[1;33m\u001b[0m\u001b[0m\n\u001b[0;32m    300\u001b[0m         \u001b[1;32mif\u001b[0m \u001b[1;32mnot\u001b[0m \u001b[0mself\u001b[0m\u001b[1;33m.\u001b[0m\u001b[0mcompressed\u001b[0m \u001b[1;32mand\u001b[0m \u001b[0mlen\u001b[0m\u001b[1;33m(\u001b[0m\u001b[0mself\u001b[0m\u001b[1;33m.\u001b[0m\u001b[0mgroupings\u001b[0m\u001b[1;33m)\u001b[0m \u001b[1;33m==\u001b[0m \u001b[1;36m1\u001b[0m\u001b[1;33m:\u001b[0m\u001b[1;33m\u001b[0m\u001b[1;33m\u001b[0m\u001b[0m\n\u001b[1;32m--> 301\u001b[1;33m             \u001b[1;32mreturn\u001b[0m \u001b[0mself\u001b[0m\u001b[1;33m.\u001b[0m\u001b[0mgroupings\u001b[0m\u001b[1;33m[\u001b[0m\u001b[1;36m0\u001b[0m\u001b[1;33m]\u001b[0m\u001b[1;33m.\u001b[0m\u001b[0mresult_index\u001b[0m\u001b[1;33m.\u001b[0m\u001b[0mrename\u001b[0m\u001b[1;33m(\u001b[0m\u001b[0mself\u001b[0m\u001b[1;33m.\u001b[0m\u001b[0mnames\u001b[0m\u001b[1;33m[\u001b[0m\u001b[1;36m0\u001b[0m\u001b[1;33m]\u001b[0m\u001b[1;33m)\u001b[0m\u001b[1;33m\u001b[0m\u001b[1;33m\u001b[0m\u001b[0m\n\u001b[0m\u001b[0;32m    302\u001b[0m \u001b[1;33m\u001b[0m\u001b[0m\n\u001b[0;32m    303\u001b[0m         \u001b[0mcodes\u001b[0m \u001b[1;33m=\u001b[0m \u001b[0mself\u001b[0m\u001b[1;33m.\u001b[0m\u001b[0mreconstructed_codes\u001b[0m\u001b[1;33m\u001b[0m\u001b[1;33m\u001b[0m\u001b[0m\n",
      "\u001b[1;32mpandas\\_libs\\properties.pyx\u001b[0m in \u001b[0;36mpandas._libs.properties.CachedProperty.__get__\u001b[1;34m()\u001b[0m\n",
      "\u001b[1;32m~\\Anaconda3\\envs\\MLEnv\\lib\\site-packages\\pandas\\core\\groupby\\grouper.py\u001b[0m in \u001b[0;36mresult_index\u001b[1;34m(self)\u001b[0m\n\u001b[0;32m    398\u001b[0m         \u001b[1;32mif\u001b[0m \u001b[0mself\u001b[0m\u001b[1;33m.\u001b[0m\u001b[0mall_grouper\u001b[0m \u001b[1;32mis\u001b[0m \u001b[1;32mnot\u001b[0m \u001b[1;32mNone\u001b[0m\u001b[1;33m:\u001b[0m\u001b[1;33m\u001b[0m\u001b[1;33m\u001b[0m\u001b[0m\n\u001b[0;32m    399\u001b[0m             \u001b[1;32mreturn\u001b[0m \u001b[0mrecode_from_groupby\u001b[0m\u001b[1;33m(\u001b[0m\u001b[0mself\u001b[0m\u001b[1;33m.\u001b[0m\u001b[0mall_grouper\u001b[0m\u001b[1;33m,\u001b[0m \u001b[0mself\u001b[0m\u001b[1;33m.\u001b[0m\u001b[0msort\u001b[0m\u001b[1;33m,\u001b[0m \u001b[0mself\u001b[0m\u001b[1;33m.\u001b[0m\u001b[0mgroup_index\u001b[0m\u001b[1;33m)\u001b[0m\u001b[1;33m\u001b[0m\u001b[1;33m\u001b[0m\u001b[0m\n\u001b[1;32m--> 400\u001b[1;33m         \u001b[1;32mreturn\u001b[0m \u001b[0mself\u001b[0m\u001b[1;33m.\u001b[0m\u001b[0mgroup_index\u001b[0m\u001b[1;33m\u001b[0m\u001b[1;33m\u001b[0m\u001b[0m\n\u001b[0m\u001b[0;32m    401\u001b[0m \u001b[1;33m\u001b[0m\u001b[0m\n\u001b[0;32m    402\u001b[0m     \u001b[1;33m@\u001b[0m\u001b[0mproperty\u001b[0m\u001b[1;33m\u001b[0m\u001b[1;33m\u001b[0m\u001b[0m\n",
      "\u001b[1;32m~\\Anaconda3\\envs\\MLEnv\\lib\\site-packages\\pandas\\core\\groupby\\grouper.py\u001b[0m in \u001b[0;36mgroup_index\u001b[1;34m(self)\u001b[0m\n\u001b[0;32m    403\u001b[0m     \u001b[1;32mdef\u001b[0m \u001b[0mgroup_index\u001b[0m\u001b[1;33m(\u001b[0m\u001b[0mself\u001b[0m\u001b[1;33m)\u001b[0m \u001b[1;33m->\u001b[0m \u001b[0mIndex\u001b[0m\u001b[1;33m:\u001b[0m\u001b[1;33m\u001b[0m\u001b[1;33m\u001b[0m\u001b[0m\n\u001b[0;32m    404\u001b[0m         \u001b[1;32mif\u001b[0m \u001b[0mself\u001b[0m\u001b[1;33m.\u001b[0m\u001b[0m_group_index\u001b[0m \u001b[1;32mis\u001b[0m \u001b[1;32mNone\u001b[0m\u001b[1;33m:\u001b[0m\u001b[1;33m\u001b[0m\u001b[1;33m\u001b[0m\u001b[0m\n\u001b[1;32m--> 405\u001b[1;33m             \u001b[0mself\u001b[0m\u001b[1;33m.\u001b[0m\u001b[0m_make_codes\u001b[0m\u001b[1;33m(\u001b[0m\u001b[1;33m)\u001b[0m\u001b[1;33m\u001b[0m\u001b[1;33m\u001b[0m\u001b[0m\n\u001b[0m\u001b[0;32m    406\u001b[0m         \u001b[1;32massert\u001b[0m \u001b[0mself\u001b[0m\u001b[1;33m.\u001b[0m\u001b[0m_group_index\u001b[0m \u001b[1;32mis\u001b[0m \u001b[1;32mnot\u001b[0m \u001b[1;32mNone\u001b[0m\u001b[1;33m\u001b[0m\u001b[1;33m\u001b[0m\u001b[0m\n\u001b[0;32m    407\u001b[0m         \u001b[1;32mreturn\u001b[0m \u001b[0mself\u001b[0m\u001b[1;33m.\u001b[0m\u001b[0m_group_index\u001b[0m\u001b[1;33m\u001b[0m\u001b[1;33m\u001b[0m\u001b[0m\n",
      "\u001b[1;32m~\\Anaconda3\\envs\\MLEnv\\lib\\site-packages\\pandas\\core\\groupby\\grouper.py\u001b[0m in \u001b[0;36m_make_codes\u001b[1;34m(self)\u001b[0m\n\u001b[0;32m    414\u001b[0m                 \u001b[0muniques\u001b[0m \u001b[1;33m=\u001b[0m \u001b[0mself\u001b[0m\u001b[1;33m.\u001b[0m\u001b[0mgrouper\u001b[0m\u001b[1;33m.\u001b[0m\u001b[0mresult_index\u001b[0m\u001b[1;33m\u001b[0m\u001b[1;33m\u001b[0m\u001b[0m\n\u001b[0;32m    415\u001b[0m             \u001b[1;32melse\u001b[0m\u001b[1;33m:\u001b[0m\u001b[1;33m\u001b[0m\u001b[1;33m\u001b[0m\u001b[0m\n\u001b[1;32m--> 416\u001b[1;33m                 \u001b[0mcodes\u001b[0m\u001b[1;33m,\u001b[0m \u001b[0muniques\u001b[0m \u001b[1;33m=\u001b[0m \u001b[0malgorithms\u001b[0m\u001b[1;33m.\u001b[0m\u001b[0mfactorize\u001b[0m\u001b[1;33m(\u001b[0m\u001b[0mself\u001b[0m\u001b[1;33m.\u001b[0m\u001b[0mgrouper\u001b[0m\u001b[1;33m,\u001b[0m \u001b[0msort\u001b[0m\u001b[1;33m=\u001b[0m\u001b[0mself\u001b[0m\u001b[1;33m.\u001b[0m\u001b[0msort\u001b[0m\u001b[1;33m)\u001b[0m\u001b[1;33m\u001b[0m\u001b[1;33m\u001b[0m\u001b[0m\n\u001b[0m\u001b[0;32m    417\u001b[0m                 \u001b[0muniques\u001b[0m \u001b[1;33m=\u001b[0m \u001b[0mIndex\u001b[0m\u001b[1;33m(\u001b[0m\u001b[0muniques\u001b[0m\u001b[1;33m,\u001b[0m \u001b[0mname\u001b[0m\u001b[1;33m=\u001b[0m\u001b[0mself\u001b[0m\u001b[1;33m.\u001b[0m\u001b[0mname\u001b[0m\u001b[1;33m)\u001b[0m\u001b[1;33m\u001b[0m\u001b[1;33m\u001b[0m\u001b[0m\n\u001b[0;32m    418\u001b[0m             \u001b[0mself\u001b[0m\u001b[1;33m.\u001b[0m\u001b[0m_codes\u001b[0m \u001b[1;33m=\u001b[0m \u001b[0mcodes\u001b[0m\u001b[1;33m\u001b[0m\u001b[1;33m\u001b[0m\u001b[0m\n",
      "\u001b[1;32m~\\Anaconda3\\envs\\MLEnv\\lib\\site-packages\\pandas\\core\\algorithms.py\u001b[0m in \u001b[0;36mfactorize\u001b[1;34m(values, sort, na_sentinel, size_hint)\u001b[0m\n\u001b[0;32m    634\u001b[0m \u001b[1;33m\u001b[0m\u001b[0m\n\u001b[0;32m    635\u001b[0m         codes, uniques = _factorize_array(\n\u001b[1;32m--> 636\u001b[1;33m             \u001b[0mvalues\u001b[0m\u001b[1;33m,\u001b[0m \u001b[0mna_sentinel\u001b[0m\u001b[1;33m=\u001b[0m\u001b[0mna_sentinel\u001b[0m\u001b[1;33m,\u001b[0m \u001b[0msize_hint\u001b[0m\u001b[1;33m=\u001b[0m\u001b[0msize_hint\u001b[0m\u001b[1;33m,\u001b[0m \u001b[0mna_value\u001b[0m\u001b[1;33m=\u001b[0m\u001b[0mna_value\u001b[0m\u001b[1;33m\u001b[0m\u001b[1;33m\u001b[0m\u001b[0m\n\u001b[0m\u001b[0;32m    637\u001b[0m         )\n\u001b[0;32m    638\u001b[0m \u001b[1;33m\u001b[0m\u001b[0m\n",
      "\u001b[1;32m~\\Anaconda3\\envs\\MLEnv\\lib\\site-packages\\pandas\\core\\algorithms.py\u001b[0m in \u001b[0;36m_factorize_array\u001b[1;34m(values, na_sentinel, size_hint, na_value)\u001b[0m\n\u001b[0;32m    482\u001b[0m \u001b[1;33m\u001b[0m\u001b[0m\n\u001b[0;32m    483\u001b[0m     \u001b[0mtable\u001b[0m \u001b[1;33m=\u001b[0m \u001b[0mhash_klass\u001b[0m\u001b[1;33m(\u001b[0m\u001b[0msize_hint\u001b[0m \u001b[1;32mor\u001b[0m \u001b[0mlen\u001b[0m\u001b[1;33m(\u001b[0m\u001b[0mvalues\u001b[0m\u001b[1;33m)\u001b[0m\u001b[1;33m)\u001b[0m\u001b[1;33m\u001b[0m\u001b[1;33m\u001b[0m\u001b[0m\n\u001b[1;32m--> 484\u001b[1;33m     \u001b[0muniques\u001b[0m\u001b[1;33m,\u001b[0m \u001b[0mcodes\u001b[0m \u001b[1;33m=\u001b[0m \u001b[0mtable\u001b[0m\u001b[1;33m.\u001b[0m\u001b[0mfactorize\u001b[0m\u001b[1;33m(\u001b[0m\u001b[0mvalues\u001b[0m\u001b[1;33m,\u001b[0m \u001b[0mna_sentinel\u001b[0m\u001b[1;33m=\u001b[0m\u001b[0mna_sentinel\u001b[0m\u001b[1;33m,\u001b[0m \u001b[0mna_value\u001b[0m\u001b[1;33m=\u001b[0m\u001b[0mna_value\u001b[0m\u001b[1;33m)\u001b[0m\u001b[1;33m\u001b[0m\u001b[1;33m\u001b[0m\u001b[0m\n\u001b[0m\u001b[0;32m    485\u001b[0m \u001b[1;33m\u001b[0m\u001b[0m\n\u001b[0;32m    486\u001b[0m     \u001b[0mcodes\u001b[0m \u001b[1;33m=\u001b[0m \u001b[0mensure_platform_int\u001b[0m\u001b[1;33m(\u001b[0m\u001b[0mcodes\u001b[0m\u001b[1;33m)\u001b[0m\u001b[1;33m\u001b[0m\u001b[1;33m\u001b[0m\u001b[0m\n",
      "\u001b[1;32mpandas\\_libs\\hashtable_class_helper.pxi\u001b[0m in \u001b[0;36mpandas._libs.hashtable.StringHashTable.factorize\u001b[1;34m()\u001b[0m\n",
      "\u001b[1;32mpandas\\_libs\\hashtable_class_helper.pxi\u001b[0m in \u001b[0;36mpandas._libs.hashtable.StringHashTable._unique\u001b[1;34m()\u001b[0m\n",
      "\u001b[1;32m~\\Anaconda3\\envs\\MLEnv\\lib\\site-packages\\numpy\\core\\_asarray.py\u001b[0m in \u001b[0;36masarray\u001b[1;34m(a, dtype, order)\u001b[0m\n\u001b[0;32m     14\u001b[0m ]\n\u001b[0;32m     15\u001b[0m \u001b[1;33m\u001b[0m\u001b[0m\n\u001b[1;32m---> 16\u001b[1;33m \u001b[1;33m@\u001b[0m\u001b[0mset_module\u001b[0m\u001b[1;33m(\u001b[0m\u001b[1;34m'numpy'\u001b[0m\u001b[1;33m)\u001b[0m\u001b[1;33m\u001b[0m\u001b[1;33m\u001b[0m\u001b[0m\n\u001b[0m\u001b[0;32m     17\u001b[0m \u001b[1;32mdef\u001b[0m \u001b[0masarray\u001b[0m\u001b[1;33m(\u001b[0m\u001b[0ma\u001b[0m\u001b[1;33m,\u001b[0m \u001b[0mdtype\u001b[0m\u001b[1;33m=\u001b[0m\u001b[1;32mNone\u001b[0m\u001b[1;33m,\u001b[0m \u001b[0morder\u001b[0m\u001b[1;33m=\u001b[0m\u001b[1;32mNone\u001b[0m\u001b[1;33m)\u001b[0m\u001b[1;33m:\u001b[0m\u001b[1;33m\u001b[0m\u001b[1;33m\u001b[0m\u001b[0m\n\u001b[0;32m     18\u001b[0m     \"\"\"Convert the input to an array.\n",
      "\u001b[1;31mKeyboardInterrupt\u001b[0m: "
     ]
    }
   ],
   "source": [
    "song_df = get_top_10(data,'song')\n",
    "era_df = get_top_10(data, 'year').drop(0, axis = 0)\n",
    "release_df = get_top_10(data, 'release')"
   ]
  },
  {
   "cell_type": "code",
   "execution_count": null,
   "metadata": {},
   "outputs": [],
   "source": [
    "era_df"
   ]
  },
  {
   "cell_type": "code",
   "execution_count": null,
   "metadata": {},
   "outputs": [],
   "source": [
    "song_df"
   ]
  },
  {
   "cell_type": "code",
   "execution_count": null,
   "metadata": {},
   "outputs": [],
   "source": [
    "release_df"
   ]
  },
  {
   "cell_type": "code",
   "execution_count": null,
   "metadata": {},
   "outputs": [],
   "source": [
    "%%time\n",
    "\n",
    "# set up figure\n",
    "plt.figure(figsize=(18,10), dpi = 500)\n",
    "plt.rc('xtick',labelsize=20)\n",
    "plt.rc('ytick',labelsize=20)\n",
    "plt.tight_layout(pad = 8)\n",
    "\n",
    "# Plot bar charts\n",
    "plt.subplot(1,2,1)\n",
    "plt.barh(release_df.index, release_df.listen_count, color = CUSTOM_COLOURS[4])\n",
    "plt.xlabel('listen counts', fontsize=25)\n",
    "plt.ylabel('Album', fontsize=25)\n",
    "plt.title('Most popular albums', fontsize = 28)\n",
    "plt.ticklabel_format(axis=\"x\", style=\"sci\", scilimits=(0,0))\n",
    "\n",
    "\n",
    "\n",
    "plt.subplot(1,2,2)\n",
    "plt.barh(era_df.index.astype(str), era_df.listen_count, color = CUSTOM_COLOURS[5])\n",
    "plt.xlabel('listen counts', fontsize=25)\n",
    "plt.ylabel('Year', fontsize=25)\n",
    "plt.title('Most popular years', fontsize = 28)\n",
    "plt.ticklabel_format(axis=\"x\", style=\"sci\", scilimits=(0,0))\n",
    "\n",
    "\n",
    "plt.show()"
   ]
  },
  {
   "cell_type": "code",
   "execution_count": null,
   "metadata": {},
   "outputs": [],
   "source": [
    "%%time\n",
    "\n",
    "plt.figure(figsize=(10,18))\n",
    "\n",
    "plt.rc('xtick',labelsize=20)\n",
    "plt.rc('ytick',labelsize=20)\n",
    "\n",
    "plt.barh(song_df.index, song_df.listen_count, color = CUSTOM_COLOURS[2])\n",
    "plt.xlabel('listen counts', fontsize=25)\n",
    "plt.ylabel('Song', fontsize=25)\n",
    "plt.title('Most popular songs',  fontsize = 28)\n",
    "plt.ticklabel_format(axis=\"x\", style=\"sci\", scilimits=(0,0))\n",
    "plt.show()"
   ]
  },
  {
   "cell_type": "markdown",
   "metadata": {},
   "source": [
    "Not surprisingly, the noughties had a good turn out here (2009 was the era for all the greats in my opinion). Secrets should be higher up but oh well. Now on to the easy part."
   ]
  },
  {
   "cell_type": "markdown",
   "metadata": {},
   "source": [
    "# Suprise recommenders"
   ]
  },
  {
   "cell_type": "markdown",
   "metadata": {},
   "source": [
    "## Prepare data for Surprise Recommender"
   ]
  },
  {
   "cell_type": "markdown",
   "metadata": {},
   "source": [
    "Scikit-learn Surprise needs data in a specific format provided through Reader, which defines the ratings scale, and Dataset, which provides a way to interate through the data in steps instead of all at once."
   ]
  },
  {
   "cell_type": "code",
   "execution_count": null,
   "metadata": {},
   "outputs": [],
   "source": [
    "lowest_rating = small_train_df.listen_count.min()\n",
    "hightest_rating = small_train_df.listen_count.max()"
   ]
  },
  {
   "cell_type": "code",
   "execution_count": null,
   "metadata": {},
   "outputs": [],
   "source": [
    "reader = Reader(rating_scale=(lowest_rating, hightest_rating))"
   ]
  },
  {
   "cell_type": "code",
   "execution_count": null,
   "metadata": {},
   "outputs": [],
   "source": [
    "# The columns must correspond to user id, item id and ratings (in that order)\n",
    "small_surprise = Dataset.load_from_df(small_train_df[['user_id', 'song_id', 'listen_count']], reader)"
   ]
  },
  {
   "cell_type": "markdown",
   "metadata": {},
   "source": [
    "## Implement some models"
   ]
  },
  {
   "cell_type": "markdown",
   "metadata": {},
   "source": [
    "Next we can define the models. To evaluate these models we use Mean Squared Error and Root Mean Sqaured Error respectively, and define some helper functions."
   ]
  },
  {
   "cell_type": "code",
   "execution_count": null,
   "metadata": {},
   "outputs": [],
   "source": [
    "# Getting the models\n",
    "def get_models():\n",
    "    \n",
    "    \"\"\"\n",
    "    Gets specified models from Surprise predictions package\n",
    "    \n",
    "    \"\"\"\n",
    "    models = {'NMF': NMF(),\n",
    "              'KNN with Z Score': KNNWithZScore(verbose=False),\n",
    "              'SVD++': SVDpp(),\n",
    "              'Slope 1': SlopeOne(),\n",
    "             'Co Clustering': CoClustering()}\n",
    "    \n",
    "    return models"
   ]
  },
  {
   "cell_type": "code",
   "execution_count": null,
   "metadata": {},
   "outputs": [],
   "source": [
    "def run_model(model, data):\n",
    "    \n",
    "    \"\"\"\n",
    "    Helper function for computing model scores.\n",
    "    \n",
    "    Args:\n",
    "        model: model to for scores to be computed for\n",
    "        data: data for model to be ran on\n",
    "    \n",
    "    \"\"\"\n",
    "    results = cross_validate(model, data, cv=5, verbose=False)\n",
    "    \n",
    "    mean_rmse = np.mean(results['test_rmse'])\n",
    "    mean_mae = np.mean(results['test_mae'])\n",
    "    \n",
    "    yield mean_rmse, mean_mae\n",
    "    \n",
    "    \n",
    "        \n",
    "    "
   ]
  },
  {
   "cell_type": "code",
   "execution_count": null,
   "metadata": {},
   "outputs": [],
   "source": [
    "def scores_list_to_df(scores):\n",
    "    \"\"\"\n",
    "    Takes a list and turns it into a sorted dataframe through a dict\n",
    "    in an intermediate step.\n",
    "    \n",
    "    Args:\n",
    "    scores - List of scores with models attributed to them\n",
    "    \n",
    "    \"\"\"\n",
    "    score_dict= dict((key,d[key]) for d in scores for key in d)\n",
    "    score_df = pd.DataFrame.from_dict(score_dict, orient='index', columns=['RMSE', 'MAE'])\n",
    "    \n",
    "    return score_df.sort_values(by=['MAE', 'RMSE'])\n",
    "    "
   ]
  },
  {
   "cell_type": "code",
   "execution_count": null,
   "metadata": {},
   "outputs": [],
   "source": [
    "%%time\n",
    "\n",
    "models = get_models()\n",
    "\n",
    "model_scores = []\n",
    "\n",
    "for model in models:\n",
    "    print(model)\n",
    "    algo = models[model]\n",
    "    rmse, mae = next(run_model(algo,small_surprise))\n",
    "    print(f'Root Mean Squared Error: {rmse.round(2)}, Mean Absolute Error: {mae.round(2)}, \\n')\n",
    "    \n",
    "    scores = {model:[rmse, mae]}\n",
    "    model_scores.append(scores)\n",
    "    \n",
    "    \n",
    "model_scores_df = scores_list_to_df(model_scores)"
   ]
  },
  {
   "cell_type": "markdown",
   "metadata": {},
   "source": [
    "Could be a lot worse for a first pass (though not for SVD++, that's shocking), but we'll do better. We can use GridSearch to optimise our models. "
   ]
  },
  {
   "cell_type": "markdown",
   "metadata": {},
   "source": [
    "According to the docs, the current baselines parameters for each model tend to yeild the biggest bang for their buck, so we'll focus on the similarity paramters, which are more problem specific. We'll see which of the approaches to computing similarity work best for our models."
   ]
  },
  {
   "cell_type": "markdown",
   "metadata": {},
   "source": [
    "These are the rankings as it stands."
   ]
  },
  {
   "cell_type": "code",
   "execution_count": null,
   "metadata": {},
   "outputs": [],
   "source": [
    "model_scores_df"
   ]
  },
  {
   "cell_type": "markdown",
   "metadata": {},
   "source": [
    "# Using Grid Search to optimise paramters"
   ]
  },
  {
   "cell_type": "markdown",
   "metadata": {},
   "source": [
    "I started off by using combinatorial grid search for parameter optimization, but after using random grid search I saw it took a fraction of the time and achieved similar quality results (and it's cheaper than getting a better computer).\n",
    "\n",
    "Each of the models have their own seperate paramters, and they need to be tuned differently. So we'll take the models one by one.\n",
    "\n",
    "The optimum paramters for the mean absolute error may differ from those for the root mean squared error. In this case, we'll take the one that shows the biggest improvement upon comparison."
   ]
  },
  {
   "cell_type": "code",
   "execution_count": null,
   "metadata": {},
   "outputs": [],
   "source": [
    "tuned_model_scores = []"
   ]
  },
  {
   "cell_type": "markdown",
   "metadata": {},
   "source": [
    "## Implicit Single Value Decomposition (SVD++)"
   ]
  },
  {
   "cell_type": "markdown",
   "metadata": {},
   "source": [
    "Single Value Decomposition is the most well-known of these algorithms, owing its popularity to Netflix's million dollar competition and [Simon Funk's winning entry](https://sifter.org/~simon/journal/20061211.htm). Thank you, Simon.\n",
    "\n",
    "\n",
    "According to the docs, the equation used to predict rating $\\hat{r}_{ui}$ (a rating r from user u for item i) is:\n",
    "\n",
    "\n",
    "$$\\hat{r}_{ui} = \\mu + b_u + b_i + q_{i}^{T}p_u $$\n",
    "\n",
    "where $\\mu$ is the mean rating, $b_u$ is a bias term for the user, $b_i$ is a bias term for the item, $q_i$ are the factors for the item (transposed) and $p_u$ are the factors for the user (both in matrix form). \n",
    "\n",
    "In the classic SVD, no account is made for the fact when a user makes a prediction for the item, a positive relationship between the user and the item is implied, regardless of the rating value. SVD++ makes a correction for this, namely:\n",
    "\n",
    "$$ q_{i}^{T}p_u = q_{i}^{T} \\left( p_u + |I|^{1/2}\\sum_{{j\\epsilon}I_u}{y_j} \\right)  $$\n",
    "\n",
    "where $y_j$ is a term taking implicit factors into account and $I_u$ is a scaling term for the user factors (I think, it doesn't actually say in the docs). \n",
    "\n",
    "The idea behind SVD and all matrix factorization is as the name suggests: describe the large, complicated matrix (data table) using smaller, simpler matrices, and from there infer values in the larger matrix using observed patterns in the smaller matrices.\n",
    "\n",
    "This means that this is a regression problem, which will involve minimizing the loss, which is most often done using stochastic gradient descent. The docs suggest doing this by changing the regularization term and the learning rate. The number of factors will make a difference, as that will determine how many of the user’s other ratings are taken into account with a prediction."
   ]
  },
  {
   "cell_type": "markdown",
   "metadata": {},
   "source": [
    "First we'll create a grid of paramters to optimise..."
   ]
  },
  {
   "cell_type": "code",
   "execution_count": null,
   "metadata": {},
   "outputs": [],
   "source": [
    "SVDpp_params_grid = {'lr_all': list(np.linspace(0,0.01, 5)),\n",
    "                    'reg_all': list(np.linspace(0, 0.1, 5)),\n",
    "                    'n_factors': [5,10,15,20,25]\n",
    "                    }"
   ]
  },
  {
   "cell_type": "markdown",
   "metadata": {},
   "source": [
    "Then we'll create and fit the grid search object..."
   ]
  },
  {
   "cell_type": "code",
   "execution_count": null,
   "metadata": {},
   "outputs": [],
   "source": [
    "%%time\n",
    "SVDpp_gs = RandomizedSearchCV(SVDpp, SVDpp_params_grid,\n",
    "                              cv = 5, n_jobs=-1)\n",
    "SVDpp_gs.fit(small_surprise)"
   ]
  },
  {
   "cell_type": "markdown",
   "metadata": {},
   "source": [
    "Then we'll have a look at how we did and what the best parameters are."
   ]
  },
  {
   "cell_type": "code",
   "execution_count": null,
   "metadata": {},
   "outputs": [],
   "source": [
    "# Improvements\n",
    "print('Improvement in RSME after tuning:',\n",
    "      ((model_scores_df.RMSE['SVD++'] - SVDpp_gs.best_score['rmse'])*100/ SVDpp_gs.best_score['rmse']).round(2),'%')\n",
    "      \n",
    "print('Improvement in MAE after tuning:',\n",
    "     ((model_scores_df.MAE['SVD++'] - SVDpp_gs.best_score['mae'])*100/ SVDpp_gs.best_score['mae']).round(2),'%')"
   ]
  },
  {
   "cell_type": "code",
   "execution_count": null,
   "metadata": {},
   "outputs": [],
   "source": [
    "# combination of parameters that gave the best RMSE and MAE score\n",
    "print('Best parameters for optimizing RMSE with SVD++ \\t|', SVDpp_gs.best_params['rmse'],'\\n')\n",
    "print('Best parameters for optimizing MAE with SVD++ \\t|', SVDpp_gs.best_params['mae'])\n",
    "\n",
    "SVDpp_scores = {'SVD++' :[SVDpp_gs.best_score['rmse'], SVDpp_gs.best_score['mae']]}\n",
    "tuned_model_scores.append(SVDpp_scores)"
   ]
  },
  {
   "cell_type": "markdown",
   "metadata": {},
   "source": [
    "This is a dramatic improvement! The default parameters for SVD++ almost definetely overfit the data, as we can tell from the lower values for both the learning rates and the regularization terms. This find may affect other models as well."
   ]
  },
  {
   "cell_type": "markdown",
   "metadata": {},
   "source": [
    "## Non-Negative Matrix Factorization (NMF)\n",
    "\n"
   ]
  },
  {
   "cell_type": "markdown",
   "metadata": {},
   "source": [
    "In Non-Negative Matrix Factorization, the factors that are derived from the orignal data matrix are <b> kept positive </b>. In SVD and other factorization/dimension reductionality methods can have 'negative factors', which (at least, for this application) have no real meaning. NMF can't, making the buckets it puts the data into much more intuitive. Mathematically, a prediction of rating $r_{ui}$ from user $u$ and item $i$ is expressed as:\n",
    "\n",
    "$$\\hat{r}_{ui} = q_i^{T}p_u$$\n",
    "\n",
    "where $q_i^{T}$ is the item X factors matrix and $p_u$ is the user X factors matrix. Optimisation is done via SDG, and both the user and item matrices are updated by a formula I won't show here (read the [docs](https://surprise.readthedocs.io/en/stable/matrix_factorization.html) for more info)."
   ]
  },
  {
   "cell_type": "markdown",
   "metadata": {},
   "source": [
    "Like SVD++, the regularization terms are important in the optimization step, and the factors paramter determines how many latent features we want to try and find. This algorithm is also highly sensitive to initial values from which factors are initialized, but we won't change those here as those results turned out to be extremely unstable."
   ]
  },
  {
   "cell_type": "markdown",
   "metadata": {},
   "source": [
    "First we create a grid of parameters to optimize..."
   ]
  },
  {
   "cell_type": "code",
   "execution_count": null,
   "metadata": {},
   "outputs": [],
   "source": [
    "# params\n",
    "\n",
    "\n",
    "NMF_params_grid = {'reg_qi': list(np.linspace(0,0.01, 10)),\n",
    "                    'reg_pu': list(np.linspace(0, 0.1, 10)),\n",
    "                    'n_factors': [5,10,15,20,25],\n",
    "                    }\n"
   ]
  },
  {
   "cell_type": "markdown",
   "metadata": {},
   "source": [
    "Then we create and fit the grid search object..."
   ]
  },
  {
   "cell_type": "code",
   "execution_count": null,
   "metadata": {},
   "outputs": [],
   "source": [
    "%%time\n",
    "NMF_gs = RandomizedSearchCV(NMF, NMF_params_grid,\n",
    "                            cv=5, n_jobs=-1, joblib_verbose=0)\n",
    "NMF_gs.fit(small_surprise)"
   ]
  },
  {
   "cell_type": "markdown",
   "metadata": {},
   "source": [
    "Then we see how we much we improved and what our best paremters were."
   ]
  },
  {
   "cell_type": "code",
   "execution_count": null,
   "metadata": {},
   "outputs": [],
   "source": [
    "# Improvements\n",
    "print('Improvement in RSME after tuning:',\n",
    "      ((model_scores_df.RMSE['NMF'] - NMF_gs.best_score['rmse'])*100/ NMF_gs.best_score['rmse']).round(2),'%')\n",
    "      \n",
    "print('Improvement in Mean Absolute error after tuning:',\n",
    "     ((model_scores_df.MAE['NMF'] - NMF_gs.best_score['mae'])*100/ NMF_gs.best_score['mae']).round(2),'%')"
   ]
  },
  {
   "cell_type": "code",
   "execution_count": null,
   "metadata": {},
   "outputs": [],
   "source": [
    "# combination of parameters that gave the best RMSE and MAE score\n",
    "print('Best parameters for optimizing RMSE with NMF \\t|', NMF_gs.best_params['rmse'],'\\n')\n",
    "print('Best parameters for optimizing MAE with NMF \\t|', NMF_gs.best_params['mae'])\n",
    "\n",
    "NMF_scores = {'NMF' : [NMF_gs.best_score['rmse'], NMF_gs.best_score['mae']]}\n",
    "tuned_model_scores.append(NMF_scores)"
   ]
  },
  {
   "cell_type": "markdown",
   "metadata": {},
   "source": [
    "The amount of factors found to be best is less than the default of 20 (more pronounced here, especially for MAE). This implies overfitting for the defaults with this algorithm as well. The GridSearch didn't help at all here and the reasons are unclear (optimization barrier? simply not fit for this dataset?)."
   ]
  },
  {
   "cell_type": "markdown",
   "metadata": {},
   "source": [
    "### K Nearest Neighbours with Z score normalisation (KNN)"
   ]
  },
  {
   "cell_type": "markdown",
   "metadata": {},
   "source": [
    "The K nearest-neighbours algorithm is a tried and tested pattern recognition technique, spreading all the points in the data in n-dimensional space into their relevant groups. The prediction is based upon which group the new data point is closest to.\n",
    "\n",
    "Using standard score (or z score) normalisation, we normalise the distances between each each point in the dimension space and our prediction by scaling the similarity measure with $\\sigma_u$ or $\\sigma_i$, based on the average ratings either of the user or the item, depending on the parameter settings. "
   ]
  },
  {
   "cell_type": "markdown",
   "metadata": {},
   "source": [
    "The similarity measure determines which points we say are in the group, and the user_based parameter does too. min_support is the number of points that need to be in a group for them to have a similairty measure computed, measuring their strength as a group. K is the maximum number of neighbours the new data point can have to be considered part of a group."
   ]
  },
  {
   "cell_type": "markdown",
   "metadata": {},
   "source": [
    "You know the drill by now..."
   ]
  },
  {
   "cell_type": "code",
   "execution_count": null,
   "metadata": {},
   "outputs": [],
   "source": [
    "# pramams\n",
    "\n",
    "KNN_params_grid = {'k': [35,40,45],\n",
    "                   'sim_options':\n",
    "                   {'name':['cosine', 'msd', 'pearson', 'pearson_baseline'],\n",
    "                    'user_based': [True,False],\n",
    "                    'min_support':list(np.linspace(1,4,4))\n",
    "                   }\n",
    "            \n",
    "         }"
   ]
  },
  {
   "cell_type": "code",
   "execution_count": null,
   "metadata": {},
   "outputs": [],
   "source": [
    "%%time\n",
    "KNN_gs = RandomizedSearchCV(KNNWithZScore, KNN_params_grid,\n",
    "                            cv=2, n_jobs=-1, joblib_verbose=0)\n",
    "KNN_gs.fit(small_surprise)"
   ]
  },
  {
   "cell_type": "code",
   "execution_count": null,
   "metadata": {},
   "outputs": [],
   "source": [
    "# Improvements\n",
    "print('Improvement in RSME after tuning:',\n",
    "      ((model_scores_df.RMSE['KNN with Z Score'] - KNN_gs.best_score['rmse'])*100/ KNN_gs.best_score['rmse']).round(2),'%')\n",
    "      \n",
    "print('Improvement in Mean Absolute error after tuning:',\n",
    "     ((model_scores_df.MAE['KNN with Z Score'] - KNN_gs.best_score['mae'])*100 / KNN_gs.best_score['mae']).round(2),'%')"
   ]
  },
  {
   "cell_type": "code",
   "execution_count": null,
   "metadata": {},
   "outputs": [],
   "source": [
    "# combination of parameters that gave the best RMSE and MAE score\n",
    "print('Best parameters for optimizing RMSE with KNN with Z Score \\t|', KNN_gs.best_params['rmse'],'\\n')\n",
    "print('Best parameters for optimizing MAE with KNN with Z score \\t|', KNN_gs.best_params['mae'])\n",
    "\n",
    "KNN_scores = {'KNN with Z Score':[KNN_gs.best_score['rmse'], KNN_gs.best_score['mae']]}\n",
    "tuned_model_scores.append(KNN_scores)"
   ]
  },
  {
   "cell_type": "markdown",
   "metadata": {},
   "source": [
    "Surprisingly, the pearson_baseline is not the most effective similarity measurement for this dataset as the docs suggested. The preference of a lowe min support again suggests there was overfitting here too, as a lower support implies that the groups that aren't that strongly tied together have significance here. Music isn't so easy to define, it seems."
   ]
  },
  {
   "cell_type": "markdown",
   "metadata": {},
   "source": [
    "### Slope 1"
   ]
  },
  {
   "cell_type": "markdown",
   "metadata": {},
   "source": [
    "This algorithm computes predicted ratings purely based on the ratings of the user and the item being evaluated: no clusters, optimisation or regularization used here. This makes it simple, fast, and easily to calculate. And strangely, it wasn't half bad! It's simplicity seems to protect it from the overfitting problems we've been plagued with for the other models."
   ]
  },
  {
   "cell_type": "markdown",
   "metadata": {},
   "source": [
    "Since we have nothing to optimise, lets investigate some other accuracy metrics, like the Fraction of Concordant Pairs, or FCP.\n",
    "\n",
    "Concordant Pairs are best explained as the pairs which 'travel in the same direction'. It makes the null hypothesis that as one pattern is observed in a certain direction with respect to one observer (i.e. if a user rates 1 song high, another higher, and another highest) then another user should follow suit, and if they do, this is a concordant pair. The FCP is the fraction of pairs which are concordant.\n",
    "It basically calculates how well our algorithm's predictions follow the patterns in the data. A suitable explanation can be found [here](https://www.statisticshowto.com/concordant-pairs-discordant-pairs/)."
   ]
  },
  {
   "cell_type": "code",
   "execution_count": null,
   "metadata": {},
   "outputs": [],
   "source": [
    "algo = SlopeOne()\n",
    "algo.fit(trainset)\n",
    "accuracy.fcp(algo.test(testset))"
   ]
  },
  {
   "cell_type": "markdown",
   "metadata": {},
   "source": [
    "Apout half of the predictions made with Slope 1 are concordant with the data. I'm not sure what a good fraction looks like, but given the size of our data it's not half bad (90% of it isn't being used for this experiment, mind"
   ]
  },
  {
   "cell_type": "code",
   "execution_count": null,
   "metadata": {},
   "outputs": [],
   "source": [
    "%%time\n",
    "rmse, mae = next(run_model(SlopeOne(),small_surprise))\n",
    "\n",
    "SlopeOne_scores = {'Slope One': [rmse,mae]}\n",
    "tuned_model_scores.append(SlopeOne_scores)"
   ]
  },
  {
   "cell_type": "markdown",
   "metadata": {},
   "source": [
    "### Co Clustering"
   ]
  },
  {
   "cell_type": "markdown",
   "metadata": {},
   "source": [
    "Co Clustering does what it says on the tin: clusters comparitive items (in our case, users and songs) in terms of their ratings. The average rating of the user and iterm clusters as well as the average ratings of the user-item clusters, is used to predict the rating of a user for a new item. [The docs](https://surprise.readthedocs.io/en/stable/co_clustering.html) provide a more thorough explanation, but it really is that simple. "
   ]
  },
  {
   "cell_type": "markdown",
   "metadata": {},
   "source": [
    " Obviously, this depends on the number of user and item clusters present, so that's what we'll experiment with. "
   ]
  },
  {
   "cell_type": "code",
   "execution_count": null,
   "metadata": {},
   "outputs": [],
   "source": [
    "# params\n",
    "co_cluster_params = {'n_cltr_u':list(np.linspace(1,7,7,dtype=int)),\n",
    "                    'n_cltr_i':list(np.linspace(1,7,7,dtype=int))}"
   ]
  },
  {
   "cell_type": "code",
   "execution_count": null,
   "metadata": {},
   "outputs": [],
   "source": [
    "%%time\n",
    "co_cluster_gs = RandomizedSearchCV(CoClustering,\n",
    "                                   co_cluster_params, cv=5, n_jobs=1)\n",
    "co_cluster_gs.fit(small_surprise)"
   ]
  },
  {
   "cell_type": "code",
   "execution_count": null,
   "metadata": {},
   "outputs": [],
   "source": [
    "# Improvements\n",
    "print('Improvement in RSME after tuning:',\n",
    "      ((model_scores_df.RMSE['Co Clustering'] - co_cluster_gs.best_score['rmse'])*100 / co_cluster_gs.best_score['rmse']).round(3),'%')\n",
    "      \n",
    "print('Improvement in Mean Absolute error after tuning:',\n",
    "     ((model_scores_df.MAE['Co Clustering'] - co_cluster_gs.best_score['mae']) *100/ co_cluster_gs.best_score['mae']).round(3),'%')"
   ]
  },
  {
   "cell_type": "code",
   "execution_count": null,
   "metadata": {},
   "outputs": [],
   "source": [
    "# combination of parameters that gave the best RMSE and MAE score\n",
    "print('Best parameters for optimizing RMSE with Co Clustering \\t|', co_cluster_gs.best_params['rmse'])\n",
    "print('Best parameters for optimizing MAE with Co Clustering \\t|', co_cluster_gs.best_params['mae'])\n",
    "\n",
    "co_cluster_scores = {'Co Clustering': [co_cluster_gs.best_score['rmse'], co_cluster_gs.best_score['mae']]}\n",
    "tuned_model_scores.append(co_cluster_scores)"
   ]
  },
  {
   "cell_type": "markdown",
   "metadata": {},
   "source": [
    "Another improvement! Let's have a look at the how the stack up against each other now"
   ]
  },
  {
   "cell_type": "markdown",
   "metadata": {},
   "source": [
    "#### New models league table"
   ]
  },
  {
   "cell_type": "code",
   "execution_count": null,
   "metadata": {},
   "outputs": [],
   "source": [
    "tuned_model_scores_df = scores_list_to_df(tuned_model_scores)"
   ]
  },
  {
   "cell_type": "code",
   "execution_count": null,
   "metadata": {},
   "outputs": [],
   "source": [
    "tuned_model_scores_df"
   ]
  },
  {
   "cell_type": "markdown",
   "metadata": {},
   "source": [
    "# Evaluate tuning on total training dataset"
   ]
  },
  {
   "cell_type": "markdown",
   "metadata": {},
   "source": [
    "## Prepare data"
   ]
  },
  {
   "cell_type": "code",
   "execution_count": null,
   "metadata": {},
   "outputs": [],
   "source": [
    "lowest_rating_XL = train_df.listen_count.min()\n",
    "hightest_rating_XL = train_df.listen_count.max()"
   ]
  },
  {
   "cell_type": "code",
   "execution_count": null,
   "metadata": {},
   "outputs": [],
   "source": [
    "hightest_rating_XL"
   ]
  },
  {
   "cell_type": "code",
   "execution_count": null,
   "metadata": {},
   "outputs": [],
   "source": [
    "reader = Reader(rating_scale=(lowest_rating, hightest_rating))"
   ]
  },
  {
   "cell_type": "code",
   "execution_count": null,
   "metadata": {},
   "outputs": [],
   "source": [
    "%%time\n",
    "# The columns must correspond to user id, item id and ratings (in that order).\n",
    "large_surprise = Dataset.load_from_df(train_df[['user_id', 'song_id', 'listen_count']], reader)"
   ]
  },
  {
   "cell_type": "markdown",
   "metadata": {},
   "source": [
    "## Evaluating the models"
   ]
  },
  {
   "cell_type": "code",
   "execution_count": null,
   "metadata": {},
   "outputs": [],
   "source": [
    "def get_tuned_models(measure='rmse'):\n",
    "    models = {'Best NMF': NMF_gs.best_estimator[measure] ,\n",
    "              'Best SVD++': SVDpp_gs.best_estimator['mae'],\n",
    "              'Best Slope 1': SlopeOne(),\n",
    "              'Best Co Clustering': co_cluster_gs.best_estimator[measure],\n",
    "              'Best KNN with Z score': KNN_gs.best_estimator[measure]\n",
    "              \n",
    "             }\n",
    "    \n",
    "    return models"
   ]
  },
  {
   "cell_type": "code",
   "execution_count": null,
   "metadata": {},
   "outputs": [],
   "source": [
    "%%time\n",
    "# get models and scores list\n",
    "tuned_models = get_tuned_models()\n",
    "test_model_scores = []\n",
    "\n",
    "# evaluate tuned models\n",
    "for model in tuned_models:\n",
    "    print(model)\n",
    "    algo = tuned_models[model]\n",
    "    rmse, mae = next(run_model(algo,large_surprise))\n",
    "    print(f'Root Mean Squared Error: {rmse.round(2)}, Mean Absolute Error: {mae.round(2)}, \\n')\n",
    "    \n",
    "    test_scores = {model:[rmse, mae]}\n",
    "    test_model_scores.append(test_scores)\n",
    "    \n",
    "# store model evaluations as dataframes    \n",
    "test_model_scores_df = scores_list_to_df(test_model_scores)"
   ]
  },
  {
   "cell_type": "code",
   "execution_count": null,
   "metadata": {},
   "outputs": [],
   "source": [
    "test_model_scores_df"
   ]
  },
  {
   "cell_type": "markdown",
   "metadata": {},
   "source": [
    "# Making predictions"
   ]
  },
  {
   "cell_type": "markdown",
   "metadata": {},
   "source": [
    "We'll take the algorithms and use them to generate real recommendations based on the validation data. As users, we'll be a better judge of success than any statistical measure."
   ]
  },
  {
   "cell_type": "markdown",
   "metadata": {},
   "source": [
    "## Prepare validation data"
   ]
  },
  {
   "cell_type": "markdown",
   "metadata": {},
   "source": [
    "Here's what we'll do:\n",
    "   1. Load the validation data\n",
    "   2. Separate users and songs by thier IDs\n",
    "   3. Pair up songs with thier song ids and delete repeating pairs to decrease redundancy\n",
    "   4. Generate a random user\n",
    "   5. Get the users most listened to songs and check them against the recommended songs"
   ]
  },
  {
   "cell_type": "code",
   "execution_count": null,
   "metadata": {},
   "outputs": [],
   "source": [
    "validation_surprise = Dataset.load_from_df(validation_df[['user_id', 'song_id', 'listen_count']], reader)"
   ]
  },
  {
   "cell_type": "code",
   "execution_count": null,
   "metadata": {},
   "outputs": [],
   "source": [
    "users = validation_df['user_id'].unique()"
   ]
  },
  {
   "cell_type": "code",
   "execution_count": null,
   "metadata": {},
   "outputs": [],
   "source": [
    "# make each song and song id pairing unique\n",
    "song_id_pairs = validation_df[['song_id', 'song']].drop_duplicates()\n",
    "song_id_pairs.index = song_id_pairs.song_id\n",
    "song_id_pairs.drop('song_id', axis = 1, inplace = True)"
   ]
  },
  {
   "cell_type": "code",
   "execution_count": null,
   "metadata": {},
   "outputs": [],
   "source": [
    "song_id_pairs.head()"
   ]
  },
  {
   "cell_type": "code",
   "execution_count": null,
   "metadata": {},
   "outputs": [],
   "source": [
    "def get_top_n(predictions, n=10):\n",
    "    \"\"\"Return the top-N recommendation for each user from a set of predictions.\n",
    "\n",
    "    Args:\n",
    "        predictions(list of Prediction objects): The list of predictions, as\n",
    "            returned by the test method of an algorithm.\n",
    "        n(int): The number of recommendation to output for each user. Default\n",
    "            is 10.\n",
    "\n",
    "    Returns:\n",
    "    A dict where keys are user (raw) ids and values are lists of tuples:\n",
    "        [(raw item id, rating estimation), ...] of size n.\n",
    "    \"\"\"\n",
    "\n",
    "    # First map the predictions to each user.\n",
    "    top_n = defaultdict(list)\n",
    "    for uid, iid, true_r, est, _ in predictions:\n",
    "        top_n[uid].append((iid, est))\n",
    "\n",
    "    # Then sort the predictions for each user and retrieve the k highest ones.\n",
    "    for uid, user_ratings in top_n.items():\n",
    "        user_ratings.sort(key=lambda x: x[1], reverse=True)\n",
    "        top_n[uid] = user_ratings[:n]\n",
    "\n",
    "    return top_n\n"
   ]
  },
  {
   "cell_type": "code",
   "execution_count": null,
   "metadata": {},
   "outputs": [],
   "source": [
    "model_labels = list(test_model_scores_df.index)"
   ]
  },
  {
   "cell_type": "code",
   "execution_count": null,
   "metadata": {},
   "outputs": [],
   "source": [
    "model_labels"
   ]
  },
  {
   "cell_type": "code",
   "execution_count": null,
   "metadata": {},
   "outputs": [],
   "source": [
    "%%time\n",
    "random_user = users[random.randint(0,len(users))]\n",
    "uid = random_user\n",
    "\n",
    "user_top_songs = data[data['user_id'] == uid].sort_values(by=['listen_count'],\n",
    "                                                           ascending = False)[:5].drop(['user_id',\n",
    "                                                                                          'song_id'], axis = 1)\n",
    "user_top_songs = user_top_songs[['song', 'release', 'year', 'listen_count']]\n",
    "print(user_top_songs)\n",
    "print('\\n' * 3)\n",
    "    \n",
    "for label in model_labels:\n",
    "    \n",
    "    model = tuned_models[label]\n",
    "    preds = model.test(validation_surprise.build_full_trainset().build_testset())\n",
    "    top_n = get_top_n(preds, 10)\n",
    "    print('\\n'*2, 'Recommender model:', label,'\\n')\n",
    "    print ('Users top songs:')\n",
    "    \n",
    "\n",
    "    \n",
    "    print('\\n Recommended song(s): \\n')\n",
    "    for item in top_n[uid]:\n",
    "        iid = item[0]\n",
    "        rating = float(item[1])\n",
    "        song = song_id_pairs.loc[iid][0]\n",
    "\n",
    "        print (song)\n",
    "        print (f'Predicted rating {rating:.3}','\\n')\n",
    "    \n",
    "    "
   ]
  },
  {
   "cell_type": "markdown",
   "metadata": {},
   "source": [
    "These aren't bad on the whole; I know most of the artists and this helped me find some new music I quite enjoy! The recommendations are similar from model to model, and having tested them out, they produce some bangers that match the vibe of the users top 10 songs. \n",
    "\n",
    "That said, a fair few runs end up simply giving us songs that are already in the users top 5, which doesn't help much at all.\n",
    "\n",
    "There's a _lot_ that hasn't been covered, and that which has isn't very detailed. Even so, a decent recommendation system has been created, that kind-of-basically works (not industry standard, but still)."
   ]
  },
  {
   "cell_type": "markdown",
   "metadata": {},
   "source": [
    "# Conclusion"
   ]
  },
  {
   "cell_type": "markdown",
   "metadata": {},
   "source": [
    "#### Comments"
   ]
  },
  {
   "cell_type": "markdown",
   "metadata": {},
   "source": [
    "This data set is MASSIVE, with 2 million instances from a large number of albums, users and years. That made dealing with this obviously fairly tricky. The listen counts were heavily weighted toward the low end, which may mean the high end represented some outliers that would have been better omitted. Not mich data processing was done this time round as the main focus was on using and tuning the recommenders. In real life, processing this data would be the focus, and probably improve the results many times over. "
   ]
  },
  {
   "cell_type": "markdown",
   "metadata": {},
   "source": [
    "#### Issues"
   ]
  },
  {
   "cell_type": "markdown",
   "metadata": {},
   "source": [
    "The main issue with this is time at scale: for all 2 million instances, the run times for the implementation are around 15 minutes long, and it takes about 10 minutes to tune each model's parameters. After that, we get less than 3% improvement on 2 of the 4 trained models. One improves dramtically, and one actually gets a little worse. More tuning would clearly help a lot, but the resources and runtime don't allow for that. \n",
    "\n",
    "Decreasing the size of the data helped, and shuffling with a random seed set helped the results to be (roughly) reproducible, but not totally; the trends are the same (MAE and RMSE improve with each run for each algorithm bar NMF and the FCP for Slope 1 is about half) but the numbers are not exactly the same. It's not a big deal, so we'll ignore it."
   ]
  },
  {
   "cell_type": "markdown",
   "metadata": {},
   "source": [
    "#### Summary "
   ]
  },
  {
   "cell_type": "markdown",
   "metadata": {},
   "source": [
    "Here we have looked at a large, unstructured data set, got a sense of what's in it, had a look at some recommenders, kept track of their performance whilst tuning and using them, and finally gotten some predictions and given them the ultimate test: our own judgement.\n",
    "The success of real recommenders isn't based on squared errorrs and other stastitical tests, but whether the user actually listens to the song or watches the tv show (and then goes on to follow the artist/series). It may be worth collecting data on your listening habits via [Last FM's Scrobble API](https://www.last.fm/api/) and seeing if you could recommend some songs to yourself."
   ]
  },
  {
   "cell_type": "code",
   "execution_count": null,
   "metadata": {},
   "outputs": [],
   "source": []
  }
 ],
 "metadata": {
  "kernelspec": {
   "display_name": "Python 3",
   "language": "python",
   "name": "python3"
  },
  "language_info": {
   "codemirror_mode": {
    "name": "ipython",
    "version": 3
   },
   "file_extension": ".py",
   "mimetype": "text/x-python",
   "name": "python",
   "nbconvert_exporter": "python",
   "pygments_lexer": "ipython3",
   "version": "3.7.8"
  }
 },
 "nbformat": 4,
 "nbformat_minor": 4
}
